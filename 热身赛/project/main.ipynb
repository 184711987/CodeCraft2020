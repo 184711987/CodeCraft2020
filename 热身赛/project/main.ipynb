{
 "cells": [
  {
   "cell_type": "code",
   "execution_count": 1,
   "metadata": {},
   "outputs": [],
   "source": [
    "import pandas as pd\n",
    "train_file = \"../data/train_data.txt\"\n",
    "test_file = \"../data/test_data.txt\"\n",
    "answer_file = \"../data/answer.txt\""
   ]
  },
  {
   "cell_type": "code",
   "execution_count": 2,
   "metadata": {},
   "outputs": [
    {
     "name": "stdout",
     "output_type": "stream",
     "text": "(8000, 1000)\n(8000,)\n(2000, 1000)\n(20000, 1)\nCPU times: user 2.57 s, sys: 271 ms, total: 2.84 s\nWall time: 4.9 s\n"
    }
   ],
   "source": [
    "%%time\n",
    "df_train = pd.read_table(train_file, header=None, encoding='gb2312', sep=',')\n",
    "df_test = pd.read_table(test_file, header=None, encoding='gb2312', sep=',')\n",
    "df_answer = pd.read_table(answer_file, header=None, encoding='gb2312', sep=',')\n",
    "df_train.rename(columns={1000:'label'}, inplace=True)\n",
    "df_label = df_train['label']\n",
    "df_label.shape\n",
    "del df_train['label']\n",
    "df_train.shape\n",
    "print(df_train.shape)\n",
    "print(df_label.shape)\n",
    "print(df_test.shape)\n",
    "print(df_answer.shape)"
   ]
  },
  {
   "cell_type": "code",
   "execution_count": 15,
   "metadata": {},
   "outputs": [
    {
     "data": {
      "text/html": "<div>\n<style scoped>\n    .dataframe tbody tr th:only-of-type {\n        vertical-align: middle;\n    }\n\n    .dataframe tbody tr th {\n        vertical-align: top;\n    }\n\n    .dataframe thead th {\n        text-align: right;\n    }\n</style>\n<table border=\"1\" class=\"dataframe\">\n  <thead>\n    <tr style=\"text-align: right;\">\n      <th></th>\n      <th>0</th>\n      <th>1</th>\n      <th>2</th>\n      <th>3</th>\n      <th>4</th>\n      <th>5</th>\n      <th>6</th>\n      <th>7</th>\n      <th>8</th>\n      <th>9</th>\n      <th>...</th>\n      <th>990</th>\n      <th>991</th>\n      <th>992</th>\n      <th>993</th>\n      <th>994</th>\n      <th>995</th>\n      <th>996</th>\n      <th>997</th>\n      <th>998</th>\n      <th>999</th>\n    </tr>\n  </thead>\n  <tbody>\n    <tr>\n      <th>0</th>\n      <td>0.239</td>\n      <td>0.079</td>\n      <td>0.934</td>\n      <td>0.131</td>\n      <td>0.024</td>\n      <td>0.748</td>\n      <td>0.951</td>\n      <td>0.922</td>\n      <td>0.858</td>\n      <td>0.475</td>\n      <td>...</td>\n      <td>0.202</td>\n      <td>0.747</td>\n      <td>0.097</td>\n      <td>0.141</td>\n      <td>0.314</td>\n      <td>0.268</td>\n      <td>0.851</td>\n      <td>0.746</td>\n      <td>0.554</td>\n      <td>0.951</td>\n    </tr>\n    <tr>\n      <th>1</th>\n      <td>0.972</td>\n      <td>0.852</td>\n      <td>0.330</td>\n      <td>0.114</td>\n      <td>0.003</td>\n      <td>0.383</td>\n      <td>0.192</td>\n      <td>0.180</td>\n      <td>0.860</td>\n      <td>0.654</td>\n      <td>...</td>\n      <td>0.571</td>\n      <td>0.333</td>\n      <td>0.052</td>\n      <td>0.201</td>\n      <td>0.495</td>\n      <td>0.631</td>\n      <td>0.017</td>\n      <td>0.925</td>\n      <td>0.047</td>\n      <td>0.327</td>\n    </tr>\n    <tr>\n      <th>2</th>\n      <td>0.118</td>\n      <td>0.368</td>\n      <td>0.989</td>\n      <td>0.331</td>\n      <td>0.944</td>\n      <td>0.539</td>\n      <td>0.118</td>\n      <td>0.867</td>\n      <td>0.351</td>\n      <td>0.956</td>\n      <td>...</td>\n      <td>0.119</td>\n      <td>0.122</td>\n      <td>0.170</td>\n      <td>0.270</td>\n      <td>0.917</td>\n      <td>0.503</td>\n      <td>0.068</td>\n      <td>0.160</td>\n      <td>0.751</td>\n      <td>0.784</td>\n    </tr>\n    <tr>\n      <th>3</th>\n      <td>0.044</td>\n      <td>0.476</td>\n      <td>0.882</td>\n      <td>0.202</td>\n      <td>0.445</td>\n      <td>0.290</td>\n      <td>0.162</td>\n      <td>0.620</td>\n      <td>0.428</td>\n      <td>0.610</td>\n      <td>...</td>\n      <td>0.606</td>\n      <td>0.178</td>\n      <td>-0.265</td>\n      <td>0.686</td>\n      <td>0.876</td>\n      <td>0.287</td>\n      <td>0.504</td>\n      <td>0.863</td>\n      <td>0.997</td>\n      <td>0.541</td>\n    </tr>\n    <tr>\n      <th>4</th>\n      <td>0.199</td>\n      <td>0.242</td>\n      <td>0.322</td>\n      <td>0.081</td>\n      <td>0.695</td>\n      <td>0.206</td>\n      <td>0.052</td>\n      <td>0.732</td>\n      <td>0.268</td>\n      <td>0.820</td>\n      <td>...</td>\n      <td>0.985</td>\n      <td>0.661</td>\n      <td>0.084</td>\n      <td>0.006</td>\n      <td>0.145</td>\n      <td>0.846</td>\n      <td>0.344</td>\n      <td>0.346</td>\n      <td>0.506</td>\n      <td>0.624</td>\n    </tr>\n  </tbody>\n</table>\n<p>5 rows × 1000 columns</p>\n</div>",
      "text/plain": "     0      1      2      3      4      5      6      7      8      9    ...  \\\n0  0.239  0.079  0.934  0.131  0.024  0.748  0.951  0.922  0.858  0.475  ...   \n1  0.972  0.852  0.330  0.114  0.003  0.383  0.192  0.180  0.860  0.654  ...   \n2  0.118  0.368  0.989  0.331  0.944  0.539  0.118  0.867  0.351  0.956  ...   \n3  0.044  0.476  0.882  0.202  0.445  0.290  0.162  0.620  0.428  0.610  ...   \n4  0.199  0.242  0.322  0.081  0.695  0.206  0.052  0.732  0.268  0.820  ...   \n\n     990    991    992    993    994    995    996    997    998    999  \n0  0.202  0.747  0.097  0.141  0.314  0.268  0.851  0.746  0.554  0.951  \n1  0.571  0.333  0.052  0.201  0.495  0.631  0.017  0.925  0.047  0.327  \n2  0.119  0.122  0.170  0.270  0.917  0.503  0.068  0.160  0.751  0.784  \n3  0.606  0.178 -0.265  0.686  0.876  0.287  0.504  0.863  0.997  0.541  \n4  0.985  0.661  0.084  0.006  0.145  0.846  0.344  0.346  0.506  0.624  \n\n[5 rows x 1000 columns]"
     },
     "execution_count": 15,
     "metadata": {},
     "output_type": "execute_result"
    }
   ],
   "source": [
    "df_train.head()"
   ]
  },
  {
   "cell_type": "code",
   "execution_count": 23,
   "metadata": {},
   "outputs": [],
   "source": [
    "%%time\n",
    "from sklearn.linear_model import LogisticRegression\n",
    "\n",
    "def train(p):\n",
    "    lr = LogisticRegression()\n",
    "    lr.fit(df_train[p], df_label)\n",
    "\n",
    "    predictY = lr.predict(df_test[p])\n",
    "    ac, wa = 0, 0\n",
    "    for py, y in zip(predictY, df_answer[0]):\n",
    "        if py == y:\n",
    "            ac += 1\n",
    "        else:\n",
    "            wa += 1\n",
    "    rate = ac / (ac + wa)\n",
    "    return rate\n",
    "\n",
    "maxid, maxx = 0, 0\n",
    "for i in range(1000):\n",
    "    for j in range(i+1, 1000):\n",
    "        p = [i, j]\n",
    "        rate = train(p)\n",
    "        if rate > maxx:\n",
    "            maxid, maxx = i, rate\n",
    "print(maxid, maxx)"
   ]
  },
  {
   "cell_type": "code",
   "execution_count": 13,
   "metadata": {},
   "outputs": [
    {
     "name": "stdout",
     "output_type": "stream",
     "text": "CPU times: user 1min 47s, sys: 2.17 s, total: 1min 49s\nWall time: 2min 10s\n"
    },
    {
     "data": {
      "text/plain": "SVC(C=1.0, break_ties=False, cache_size=200, class_weight=None, coef0=0.0,\n    decision_function_shape='ovr', degree=3, gamma=0.1, kernel='rbf',\n    max_iter=-1, probability=False, random_state=None, shrinking=True,\n    tol=0.001, verbose=False)"
     },
     "execution_count": 13,
     "metadata": {},
     "output_type": "execute_result"
    }
   ],
   "source": [
    "%%time\n",
    "from sklearn import svm\n",
    "from sklearn.svm import SVC\n",
    "from sklearn.model_selection import GridSearchCV\n",
    "\n",
    "clf = svm.SVC(C=1.0, kernel='rbf', gamma=0.1)\n",
    "clf.fit(df_train, df_label)"
   ]
  },
  {
   "cell_type": "code",
   "execution_count": 12,
   "metadata": {},
   "outputs": [
    {
     "name": "stdout",
     "output_type": "stream",
     "text": "正确:  1374\n错误:  626\n准确率:  0.687\n"
    }
   ],
   "source": [
    "predictY = clf.predict(df_test)\n",
    "ac, wa = 0, 0\n",
    "for py, y in zip(predictY, df_answer[0]):\n",
    "    if py == y:\n",
    "        ac += 1\n",
    "    else:\n",
    "        wa += 1\n",
    "print(\"正确: \", ac)\n",
    "print(\"错误: \", wa)\n",
    "print(\"准确率: \", ac / (ac + wa))"
   ]
  }
 ],
 "metadata": {
  "file_extension": ".py",
  "kernelspec": {
   "display_name": "Python 3.6.5 64-bit",
   "language": "python",
   "name": "python36564bitdd8a1b9c90524d09a57c469dc70ef4fe"
  },
  "language_info": {
   "codemirror_mode": {
    "name": "ipython",
    "version": 3
   },
   "file_extension": ".py",
   "mimetype": "text/x-python",
   "name": "python",
   "nbconvert_exporter": "python",
   "pygments_lexer": "ipython3",
   "version": "3.6.5-final"
  },
  "mimetype": "text/x-python",
  "name": "python",
  "npconvert_exporter": "python",
  "pygments_lexer": "ipython3",
  "version": 3
 },
 "nbformat": 4,
 "nbformat_minor": 2
}